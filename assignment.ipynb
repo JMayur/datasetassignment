{
  "nbformat": 4,
  "nbformat_minor": 0,
  "metadata": {
    "colab": {
      "name": "assignment.ipynb",
      "provenance": [],
      "collapsed_sections": []
    },
    "kernelspec": {
      "name": "python3",
      "display_name": "Python 3"
    },
    "language_info": {
      "name": "python"
    }
  },
  "cells": [
    {
      "cell_type": "code",
      "metadata": {
        "colab": {
          "base_uri": "https://localhost:8080/"
        },
        "id": "pydOLDQkirQF",
        "outputId": "f05315c0-7cd4-4d26-f922-f294f34e4cf6"
      },
      "source": [
        "!pip install -U -q PyDrive\n",
        "from pydrive.auth import GoogleAuth\n",
        "from pydrive.drive import GoogleDrive\n",
        "from google.colab import auth\n",
        "from oauth2client.client import GoogleCredentials\n",
        "\n",
        "auth.authenticate_user()\n",
        "gauth = GoogleAuth()\n",
        "gauth.credentials = GoogleCredentials.get_application_default()\n",
        "drive = GoogleDrive(gauth)\n",
        "downloaded = drive.CreateFile({'id':'1xVOo2nc-12aVSRH3z-5ZLF96qbVZMFCf'})\n",
        "downloaded.GetContentFile('resources.csv')\n",
        "import pandas as pd\n",
        "xyz = pd.read_csv('resources.csv') \n",
        "print(xyz.head())\n",
        "\n"
      ],
      "execution_count": 7,
      "outputs": [
        {
          "output_type": "stream",
          "text": [
            "       city  age       Country\n",
            "0     Delhi   34         India\n",
            "1      Lima   30          Peru\n",
            "2  Istanbul   16        Turkey\n",
            "3    Riyadh   33  Saudi Arabia\n"
          ],
          "name": "stdout"
        }
      ]
    }
  ]
}